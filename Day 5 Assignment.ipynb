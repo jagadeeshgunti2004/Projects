{
 "cells": [
  {
   "cell_type": "code",
   "execution_count": 1,
   "id": "2c11f503",
   "metadata": {},
   "outputs": [
    {
     "name": "stdout",
     "output_type": "stream",
     "text": [
      "Word Frequencies:\n",
      "hello: 2\n",
      "world: 2\n",
      "python: 1\n",
      "this: 1\n",
      "is: 1\n",
      "a: 1\n",
      "test: 1\n",
      "for: 1\n",
      "word: 1\n",
      "frequency: 1\n",
      "calculation: 1\n"
     ]
    }
   ],
   "source": [
    "def calculate_word_frequency(text):\n",
    "    text = ''.join(char.lower() if char.isalnum() or char.isspace() else ' ' for char in text)\n",
    "    words = text.split()\n",
    "    word_count = {}\n",
    "    for word in words:\n",
    "        word_count[word] = word_count.get(word, 0) + 1\n",
    "    print(\"Word Frequencies:\")\n",
    "    for word, count in word_count.items():\n",
    "        print(f\"{word}: {count}\")\n",
    "text = \"Hello world! Hello Python world. This is a test for word frequency calculation.\"\n",
    "calculate_word_frequency(text)\n"
   ]
  },
  {
   "cell_type": "code",
   "execution_count": null,
   "id": "b9f8614b",
   "metadata": {},
   "outputs": [],
   "source": []
  }
 ],
 "metadata": {
  "kernelspec": {
   "display_name": "Python 3 (ipykernel)",
   "language": "python",
   "name": "python3"
  },
  "language_info": {
   "codemirror_mode": {
    "name": "ipython",
    "version": 3
   },
   "file_extension": ".py",
   "mimetype": "text/x-python",
   "name": "python",
   "nbconvert_exporter": "python",
   "pygments_lexer": "ipython3",
   "version": "3.11.5"
  }
 },
 "nbformat": 4,
 "nbformat_minor": 5
}
