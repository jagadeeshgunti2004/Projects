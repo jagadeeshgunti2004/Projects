{
  "nbformat": 4,
  "nbformat_minor": 0,
  "metadata": {
    "colab": {
      "provenance": [],
      "authorship_tag": "ABX9TyNh0a/2szb+LPuz7TM/qfzb",
      "include_colab_link": true
    },
    "kernelspec": {
      "name": "python3",
      "display_name": "Python 3"
    },
    "language_info": {
      "name": "python"
    }
  },
  "cells": [
    {
      "cell_type": "markdown",
      "metadata": {
        "id": "view-in-github",
        "colab_type": "text"
      },
      "source": [
        "<a href=\"https://colab.research.google.com/github/jagadeeshgunti2004/Projects/blob/main/Gemini_Ai_pdf_health_report_analisise.ipynb\" target=\"_parent\"><img src=\"https://colab.research.google.com/assets/colab-badge.svg\" alt=\"Open In Colab\"/></a>"
      ]
    },
    {
      "cell_type": "code",
      "execution_count": 12,
      "metadata": {
        "id": "w4ITj_waN4G5"
      },
      "outputs": [],
      "source": [
        "import google.generativeai as genai\n",
        "from google.colab import userdata\n",
        "GOOGLE_API_KEY=userdata.get('GOOGLE_API_KEY')\n",
        "genai.configure(api_key=GOOGLE_API_KEY)\n"
      ]
    },
    {
      "cell_type": "code",
      "source": [
        "pip install pyPDF2"
      ],
      "metadata": {
        "colab": {
          "base_uri": "https://localhost:8080/"
        },
        "id": "kzXRD_13OL4U",
        "outputId": "b1b4d5b7-8511-437b-e593-514e4f55aef8"
      },
      "execution_count": null,
      "outputs": [
        {
          "output_type": "stream",
          "name": "stdout",
          "text": [
            "Requirement already satisfied: pyPDF2 in /usr/local/lib/python3.11/dist-packages (3.0.1)\n"
          ]
        }
      ]
    },
    {
      "cell_type": "code",
      "source": [
        "import PyPDF2\n",
        "def extract_text_form_pdf(pdf_path):\n",
        "  \"\"\"Extracts text from a given health report PDF using pyPDF2\"\"\"\n",
        "  text=\"\"\n",
        "  with open(pdf_path, \"rb\") as file:\n",
        "    reader=PyPDF2.PdfReader(file)\n",
        "    for page in reader.pages:\n",
        "      text+=page.extract_text()\n",
        "  return text"
      ],
      "metadata": {
        "id": "SCJ7QowoOSWA"
      },
      "execution_count": 13,
      "outputs": []
    },
    {
      "cell_type": "code",
      "source": [
        "def extract_health_insights(text):\n",
        "  \"\"\"Asks Gemini AI to extract key medical insights from the report.\"\"\"\n",
        "  model = genai.GenerativeModel(\"gemini-1.5-flash\")\n",
        "  prompt = f\"Extract key insights from the following health report:\\n\\n{text}\"\n",
        "  response = model.generate_content(prompt)\n",
        "  return response.text\n",
        "\n",
        "pdf_file = \"health_report.pdf\"\n",
        "extracted_text = extract_text_form_pdf(pdf_file)\n",
        "insights = extract_health_insights(extracted_text)\n",
        "print(\"Key Insights:\\n\", insights)"
      ],
      "metadata": {
        "id": "51TLIaSjPUfJ",
        "colab": {
          "base_uri": "https://localhost:8080/",
          "height": 592
        },
        "outputId": "32e017ca-d088-493d-a3fc-d59e86d4d176"
      },
      "execution_count": 15,
      "outputs": [
        {
          "output_type": "stream",
          "name": "stdout",
          "text": [
            "Key Insights:\n",
            " Mr. Kishan Goud's (MR Number: MR2100003157) health report from February 1st, 2021, reveals the following key insights:\n",
            "\n",
            "**Infections:**\n",
            "\n",
            "* **Widal Test:** Elevated titers for *Salmonella Typhi* \"O\" (1:160) and \"H\" (1:80) suggest a possible past or present typhoid infection.  The reference range is 1:20, indicating values above this suggest exposure.  *Salmonella Paratyphi* \"A\" and \"B\" titers are within the normal range.\n",
            "\n",
            "* **Dengue:** Negative results for Dengue NS1 antigen, IgG, and IgM antibodies indicate no current or recent dengue infection.\n",
            "\n",
            "* **Malaria:**  Negative rapid malaria tests for *Plasmodium vivax* and *Plasmodium falciparum* rule out malaria.\n",
            "\n",
            "**Hematology:**\n",
            "\n",
            "* **Complete Blood Count (CBC):**  Hemoglobin, RBC, WBC, and platelet counts are within normal ranges, suggesting no significant anemia, infection, or bleeding disorder.  Differential count also shows normal ranges for neutrophils, lymphocytes, eosinophils, monocytes, and basophils.\n",
            "\n",
            "* **Erythrocyte Sedimentation Rate (ESR):** Elevated ESR (26 mm/hr in the first hour, 52 mm/hr in the second hour), exceeding the normal range (0-8 mm/hr), suggests inflammation or infection.  This could be related to the elevated Widal test results.\n",
            "\n",
            "**Biochemistry:**\n",
            "\n",
            "* **Liver Function Tests (LFTs):**  All liver function tests (bilirubin, alkaline phosphatase, SGOT, SGPT, total protein, albumin, globulin, A/G ratio) are within normal limits.\n",
            "\n",
            "* **Renal Function Test:** Serum creatinine is within the normal range (0.8 mg/dl), indicating normal kidney function.\n",
            "\n",
            "* **Blood Glucose:** Random blood glucose level is not explicitly stated as high or low, but further investigation may be needed depending on the context of the test.\n",
            "\n",
            "* **Electrolytes:** Sodium (122 mmol/l) is slightly below the reference range (135-146 mmol/l), while potassium and chloride are within normal limits.  The low sodium requires further evaluation.\n",
            "\n",
            "* **HbA1c:**  HbA1c is 5.4%, falling within the normal non-diabetic range (4-6%), indicating good blood glucose control.\n",
            "\n",
            "\n",
            "**Overall:**  The most concerning findings are the elevated Widal test suggesting past or present typhoid and the elevated ESR indicating inflammation. The low sodium level also warrants further attention.  The other test results are mostly unremarkable.  Further clinical correlation by the physician is necessary to interpret these results in the context of Mr. Kishan Goud's symptoms and medical history.\n",
            "\n"
          ]
        }
      ]
    },
    {
      "cell_type": "code",
      "source": [
        "def summarize_health_report(text):\n",
        "  model=genai.GenerativeModel(\"gemini-1.5-flash\")\n",
        "  prompt=f\"Summarize the following health report:\\n\\n{text}\"\n",
        "  response=model.generate_content(prompt)\n",
        "  return response.text\n",
        "summary=summarize_health_report(extracted_text)\n",
        "print(\"Summary:\\n\",summary)"
      ],
      "metadata": {
        "id": "-mMujU9iQ_wP",
        "colab": {
          "base_uri": "https://localhost:8080/",
          "height": 453
        },
        "outputId": "d6303de5-b9aa-4c12-e02c-14eb0758d67b"
      },
      "execution_count": 16,
      "outputs": [
        {
          "output_type": "stream",
          "name": "stdout",
          "text": [
            "Summary:\n",
            " This is a health report for Mr. Kishan Goud (MR Number: MR2100003157) dated February 1, 2021.  The report includes the following test results:\n",
            "\n",
            "**Infectious Disease Tests:**\n",
            "\n",
            "* **Widal Test:** Elevated titers for *Salmonella Typhi* \"O\" (1:160) and \"H\" (1:80), suggesting possible past or current typhoid infection.  *Salmonella Paratyphi* \"A\" and \"B\" titers were within the normal range.\n",
            "* **Dengue Serology:** Negative for Dengue NS1 antigen, IgG, and IgM antibodies.\n",
            "* **Rapid Malaria Test:** Negative for both *Plasmodium falciparum* and *Plasmodium vivax*.\n",
            "\n",
            "**Hematology:**\n",
            "\n",
            "* **Complete Blood Picture (CBC):**  All values (Hemoglobin, RBC, WBC, Platelets, PCV, Differential Count) were within normal limits except for slightly elevated ESR (26 mm/hr in the first hour, 52 mm/hr in the second hour), which may indicate inflammation.\n",
            "* **HbA1c:** 5.4%, indicating good blood glucose control (within the normal non-diabetic range).\n",
            "\n",
            "**Biochemistry:**\n",
            "\n",
            "* **Serum Creatinine:** 0.8 mg/dl (within the normal range).\n",
            "* **Random Blood Glucose:**  The value is missing from the provided text.\n",
            "* **Liver Function Test (LFT):** All values (Total Bilirubin, Direct Bilirubin, Indirect Bilirubin, Alkaline Phosphatase, SGOT, SGPT, Total Protein, Albumin, Globulin, A/G ratio) were within normal ranges.\n",
            "* **Serum Electrolytes:** Sodium (122 mmol/l) was slightly low, while Potassium and Chloride were within normal ranges.\n",
            "\n",
            "\n",
            "**Overall:** The report shows some evidence of possible past or present typhoid infection (Widal test), and a slightly elevated ESR suggesting inflammation.  Otherwise, most other tests, including those for dengue and malaria, and liver and kidney function, were within normal limits.  The slightly low sodium level warrants further investigation.  The missing random blood glucose result should be clarified.\n",
            "\n"
          ]
        }
      ]
    },
    {
      "cell_type": "code",
      "source": [
        "def detect_abnormalities(text):\n",
        "    \"\"\"Analyzes lab test results and flags abnormal values.\"\"\"\n",
        "    model = genai.GenerativeModel(\"gemini-1.5-flash\")\n",
        "    prompt = f\"Analyze the lab test results in the following health report and highlight any abnormal values:\\n\\n{text}\"\n",
        "    response = model.generate_content(prompt)\n",
        "    return response.text\n",
        "\n",
        "abnormalities = detect_abnormalities(extracted_text)\n",
        "print(\"Potential Abnormalities:\\n\", abnormalities)"
      ],
      "metadata": {
        "colab": {
          "base_uri": "https://localhost:8080/",
          "height": 384
        },
        "id": "1IbQhXPnT4HL",
        "outputId": "61126ae9-56be-425f-a96a-770fcda215ee"
      },
      "execution_count": 17,
      "outputs": [
        {
          "output_type": "stream",
          "name": "stdout",
          "text": [
            "Potential Abnormalities:\n",
            " Based on the provided lab results, the following values are outside the reference ranges, indicating potential abnormalities:\n",
            "\n",
            "* **Widal Test:**  S. Typhi \"O\" (1:160) and S. Typhi \"H\" (1:80) are significantly elevated above the reference range of 1:20. This strongly suggests a past or present infection with *Salmonella Typhi*, the bacteria that causes typhoid fever.  Further investigation and clinical correlation are necessary.\n",
            "\n",
            "* **ESR (Erythrocyte Sedimentation Rate):** Both the 1st hour (26 mm/hr) and 2nd hour (52 mm/hr) values are significantly elevated above the reference range of 0-8 mm/hr.  Elevated ESR indicates inflammation in the body.  The cause needs further investigation.\n",
            "\n",
            "* **Serum Sodium:**  122 mmol/l is below the reference range of 135-146 mmol/l.  Hyponatremia (low sodium) can have various causes and requires further evaluation.\n",
            "\n",
            "* **Serum Chloride:** 97 mmol/l is below the reference range of 98-107 mmol/l.  Hypochloremia (low chloride) often occurs in conjunction with other electrolyte imbalances.  It warrants further investigation along with the hyponatremia.\n",
            "\n",
            "\n",
            "**Values slightly outside or at the lower end of the range but needing clinical context:**\n",
            "\n",
            "* **RBC (Red Blood Cell count):** 4.3 mill/cumm is at the lower end of the normal range (4.5-5.5). While within the range, it's close to the lower limit and should be considered in the context of the patient's overall health and other findings.\n",
            "* **Platelet Count:** 2.0 lakhs/cumm, while within the reference range (1.5 - 4.5 lakhs/cumm), is on the lower side.  This warrants monitoring, especially given the other abnormalities.\n",
            "\n",
            "\n",
            "**Important Note:**  This analysis is based solely on the lab results provided.  It is crucial to understand that lab results should *always* be interpreted in conjunction with the patient's clinical presentation, medical history, and other relevant findings by a qualified healthcare professional.  The abnormalities highlighted above require further investigation and medical attention to determine the underlying causes and appropriate treatment.\n",
            "\n"
          ]
        }
      ]
    },
    {
      "cell_type": "code",
      "source": [
        "def explain_medical_terms(text):\n",
        "    model = genai.GenerativeModel('gemini-1.5-flash')\n",
        "    prompt = f\"Explain the medical terms in the following health report in simple language:\\n\\n{text}\"\n",
        "    response = model.generate_content(prompt)\n",
        "    return response.text\n",
        "\n",
        "explanation = explain_medical_terms(extracted_text)\n",
        "print(\"Simplified Explanation:\\n\", explanation)"
      ],
      "metadata": {
        "colab": {
          "base_uri": "https://localhost:8080/",
          "height": 1000
        },
        "id": "Ow1yDRzGVIcG",
        "outputId": "da33c467-c946-404f-94ac-729530d9bb15"
      },
      "execution_count": 18,
      "outputs": [
        {
          "output_type": "stream",
          "name": "stdout",
          "text": [
            "Simplified Explanation:\n",
            " This report shows the results of various blood tests performed on Mr. Kishan Goud. Let's break down each section:\n",
            "\n",
            "**1. WIDAL Test (for Typhoid Fever):**\n",
            "\n",
            "* **S. Typhi \"O\" 1:160:** This measures antibodies against the \"O\" antigen of *Salmonella Typhi*, the bacteria that causes typhoid fever.  A titer of 1:160 suggests a past or current infection, though it needs to be interpreted in context with other findings.  The reference range (1:20) shows this value is significantly higher.\n",
            "* **S. Typhi \"H\" 1:80:** This measures antibodies against the \"H\" antigen of *Salmonella Typhi*.  A titer of 1:80, like the \"O\" antigen result, suggests a possible past or current infection.  Again, significantly higher than the reference range.\n",
            "* **S. Paratyphi \"AH\" 1:20:** Antibodies against the \"AH\" antigen of *Salmonella Paratyphi* (another typhoid-causing bacteria).  This result is within the normal range, suggesting no current infection.\n",
            "* **S. Paratyphi \"BH\" 1:20:** Antibodies against the \"BH\" antigen of *Salmonella Paratyphi*. This result is also within the normal range.\n",
            "\n",
            "**In simple terms:** The Widal test suggests a possible past or current typhoid fever infection (due to elevated *S. Typhi* antibodies), although it's not conclusive on its own. Further tests or clinical evaluation would be needed.\n",
            "\n",
            "**2. Dengue Serology (for Dengue Fever):**\n",
            "\n",
            "* **Dengue NS1 Antigen:** Negative. This means the test didn't detect the NS1 protein, which is present during the acute phase of dengue infection.\n",
            "* **Dengue IgG:** Negative. This measures antibodies that appear later in the infection (after a few days) and indicate past exposure to the dengue virus.  Negative means no past infection.\n",
            "* **Dengue IgM:** Negative. This measures antibodies that appear early in the infection.  Negative means no current or recent infection.\n",
            "\n",
            "**In simple terms:** The test shows no sign of a current or past dengue fever infection.\n",
            "\n",
            "\n",
            "**3. Erythrocyte Sedimentation Rate (ESR):**\n",
            "\n",
            "* **ESR 1st Hour 26 mm/hr:**  This measures how quickly red blood cells settle at the bottom of a test tube.  A higher rate often indicates inflammation in the body.  26 mm/hr is elevated (above the normal range of 0-8 mm/hr).\n",
            "* **ESR 2nd Hour 52 mm/hr:**  Further elevated ESR.\n",
            "\n",
            "**In simple terms:**  The ESR suggests there's inflammation somewhere in the body.  The cause needs further investigation.\n",
            "\n",
            "\n",
            "**4. Rapid Malaria Test:**\n",
            "\n",
            "* **P.V Negative:** Negative for *Plasmodium vivax*, a type of malaria parasite.\n",
            "* **P.F Negative:** Negative for *Plasmodium falciparum*, another type of malaria parasite (often more dangerous).\n",
            "\n",
            "**In simple terms:** The test shows no evidence of malaria.\n",
            "\n",
            "\n",
            "**5. Complete Blood Picture (CBC):**\n",
            "\n",
            "This provides information about various components of the blood:\n",
            "\n",
            "* **Hemoglobin (Hb):** 13.6 gm% (within normal range). This measures the oxygen-carrying capacity of the blood.\n",
            "* **Red Blood Cells (RBC):** 4.3 million/cumm (slightly low, but within the lower limit of normal).\n",
            "* **White Blood Cells (WBC):** 7,200 cells/cumm (within normal range). These fight infection.\n",
            "* **Platelet Count:** 2.0 lakhs/cumm (within normal range).  These help with blood clotting.\n",
            "* **Packed Cell Volume (PCV):** 40.5% (within normal range). This is the proportion of red blood cells in the blood.\n",
            "* **Differential Count:** This breaks down the types of white blood cells.  All are within or near normal ranges.\n",
            "* **Peripheral Blood Smear:**  The microscopic examination of the blood sample showed normal-sized and colored red blood cells, and normal white blood cells and platelets.\n",
            "\n",
            "**In simple terms:** The CBC shows mostly normal blood counts, with a slightly low RBC count.\n",
            "\n",
            "\n",
            "**6. HbA1c (for Diabetes):**\n",
            "\n",
            "* **HbA1c 5.4%:** This measures average blood sugar levels over the past 2-3 months.  5.4% is within the normal range for someone without diabetes.\n",
            "\n",
            "**In simple terms:** The HbA1c test indicates good blood sugar control, meaning no diabetes.\n",
            "\n",
            "\n",
            "**7. Serum Creatinine (Kidney Function):**\n",
            "\n",
            "* **Serum Creatinine 0.8 mg/dl:** This measures kidney function. 0.8 mg/dl is within the normal range.\n",
            "\n",
            "**In simple terms:**  Kidney function appears to be normal.\n",
            "\n",
            "\n",
            "**8. Random Blood Glucose (Blood Sugar):**\n",
            "\n",
            "* **Random Blood Glucose:**  This measures blood sugar level at a random time. The value is missing from the provided report.\n",
            "\n",
            "**9. Liver Function Test (LFT):**\n",
            "\n",
            "This section assesses liver health:\n",
            "\n",
            "* **Serum Bilirubin (Total, Direct, Indirect):** All values are within normal range, indicating no liver problems.\n",
            "* **Serum Alkaline Phosphatase:** Within the normal range.\n",
            "* **SGOT (AST) and SGPT (ALT):** Both are within normal ranges (liver enzymes).\n",
            "* **Total Protein, Albumin, Globulin, A/G Ratio:** All within normal range, indicating no significant liver issues.\n",
            "\n",
            "**In simple terms:**  Liver function tests are all normal.\n",
            "\n",
            "\n",
            "**10. Serum Electrolytes:**\n",
            "\n",
            "These tests measure the levels of essential minerals in the blood:\n",
            "\n",
            "* **Serum Sodium:** Slightly low (122 mmol/l), but within the lower part of the reference range. May require follow up.\n",
            "* **Serum Potassium:** Within the normal range.\n",
            "* **Serum Chloride:** Slightly low (97 mmol/l), again within the lower part of the reference range. May require follow up.\n",
            "\n",
            "**In simple terms:**  Sodium and Chloride are slightly low but still within the acceptable ranges.  It's important to note that lower-end values in electrolytes can indicate a problem and require further investigation.\n",
            "\n",
            "**Overall:** While many tests show normal results, the elevated ESR and slightly low sodium/chloride warrant further investigation by Mr. Kishan Goud's doctor to determine the underlying cause of the inflammation and electrolyte imbalances.  The possibility of a past typhoid infection should also be considered based on the Widal test results.  This report should *not* be used for self-diagnosis or treatment.  Mr. Kishan Goud should consult with his doctor for interpretation and next steps.\n",
            "\n"
          ]
        }
      ]
    },
    {
      "cell_type": "code",
      "source": [
        "def ask_(text):\n",
        "    model = genai.GenerativeModel('gemini-1.5-flash')\n",
        "    prompt = f\"Explain the medical terms in the following health report in simple language:\\n\\n{text}\"\n",
        "    response = model.generate_content(prompt)\n",
        "    return response.text\n",
        "\n",
        "explanation = explain_medical_terms(extracted_text)\n",
        "print(\"Simplified Explanation:\\n\", explanation)"
      ],
      "metadata": {
        "id": "Yk6SiP-VWAI1"
      },
      "execution_count": null,
      "outputs": []
    },
    {
      "cell_type": "code",
      "source": [
        "def ask_gemini_about_report(text,question):\n",
        "  model=genai.GenerativeModel(\"gemini-1.5-flash\")\n",
        "  prompt=f\"The following is a health report:\\n\\n{text}\\n\\nAnswer the following question based on the report:\\n{question}\"\n",
        "  response=model.generate_content(prompt)\n",
        "  return response.text\n",
        "question=\"What is the patient's diagnosis?\"\n",
        "answer=ask_gemini_about_report(extracted_text,question)\n",
        "print(\"Answer:\\n\",answer)"
      ],
      "metadata": {
        "colab": {
          "base_uri": "https://localhost:8080/",
          "height": 89
        },
        "id": "Z-6AriC_Xq4s",
        "outputId": "9b3d7ec3-2a88-4b3d-cd0b-33682fcd8874"
      },
      "execution_count": 19,
      "outputs": [
        {
          "output_type": "stream",
          "name": "stdout",
          "text": [
            "Answer:\n",
            " The provided lab report does not offer a diagnosis.  It presents the results of various tests, some showing values outside the normal range (e.g., elevated ESR), but it does not interpret these findings to reach a clinical diagnosis.  That requires medical professional judgment considering the patient's symptoms, medical history, and the results in context.\n",
            "\n"
          ]
        }
      ]
    },
    {
      "cell_type": "code",
      "source": [],
      "metadata": {
        "id": "gZR6KF1QXr2N"
      },
      "execution_count": null,
      "outputs": []
    }
  ]
}