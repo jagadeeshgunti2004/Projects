{
 "cells": [
  {
   "cell_type": "code",
   "execution_count": 7,
   "id": "8de9841f",
   "metadata": {},
   "outputs": [
    {
     "name": "stdout",
     "output_type": "stream",
     "text": [
      "Enter a positive integer: 4\n",
      "The sum of all even numbers between 1 and 4 is: 6\n"
     ]
    }
   ],
   "source": [
    "n = int(input(\"Enter a positive integer: \"))\n",
    "sum_of_evens = 0\n",
    "for num in range(1, n + 1):\n",
    "    if num % 2 == 0:  \n",
    "        sum_of_evens += num\n",
    "print(f\"The sum of all even numbers between 1 and {n} is: {sum_of_evens}\")"
   ]
  },
  {
   "cell_type": "code",
   "execution_count": null,
   "id": "5f93e762",
   "metadata": {},
   "outputs": [],
   "source": []
  }
 ],
 "metadata": {
  "kernelspec": {
   "display_name": "Python 3 (ipykernel)",
   "language": "python",
   "name": "python3"
  },
  "language_info": {
   "codemirror_mode": {
    "name": "ipython",
    "version": 3
   },
   "file_extension": ".py",
   "mimetype": "text/x-python",
   "name": "python",
   "nbconvert_exporter": "python",
   "pygments_lexer": "ipython3",
   "version": "3.11.5"
  }
 },
 "nbformat": 4,
 "nbformat_minor": 5
}
