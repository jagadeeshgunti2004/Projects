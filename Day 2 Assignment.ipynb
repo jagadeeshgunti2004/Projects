{
 "cells": [
  {
   "cell_type": "code",
   "execution_count": 1,
   "id": "7d5facbd",
   "metadata": {},
   "outputs": [
    {
     "name": "stdout",
     "output_type": "stream",
     "text": [
      "List: [10, 20, 30, 40, 50]\n",
      "Accessing elements from the list:\n",
      "Element at index 0: 10\n",
      "Element at index 2: 30\n",
      "Last element: 50\n",
      "\n",
      "Tuple: ('apple', 'banana', 'cherry', 'date', 'elderberry')\n",
      "Accessing elements from the tuple:\n",
      "Element at index 1: banana\n",
      "Element at index 3: date\n",
      "Last element: elderberry\n",
      "\n",
      "Dictionary: {'name': 'Alice', 'age': 25, 'city': 'New York', 'profession': 'Engineer', 'hobby': 'Painting'}\n",
      "Accessing elements from the dictionary:\n",
      "Value of 'name': Alice\n",
      "Value of 'profession': Engineer\n",
      "Value of 'hobby': Painting\n"
     ]
    }
   ],
   "source": [
    "#Create a List, tuple and Dictionary with 5 elements in it and how to access few elements based on the index. Try  with different examples \n",
    "\n",
    "my_list = [10, 20, 30, 40, 50]\n",
    "print(\"List:\", my_list)\n",
    "print(\"Accessing elements from the list:\")\n",
    "print(\"Element at index 0:\", my_list[0])\n",
    "print(\"Element at index 2:\", my_list[2])  \n",
    "print(\"Last element:\", my_list[-1]) \n",
    "my_tuple = (\"apple\", \"banana\", \"cherry\", \"date\", \"elderberry\")\n",
    "print(\"\\nTuple:\", my_tuple)\n",
    "print(\"Accessing elements from the tuple:\")\n",
    "print(\"Element at index 1:\", my_tuple[1])\n",
    "print(\"Element at index 3:\", my_tuple[3]) \n",
    "print(\"Last element:\", my_tuple[-1])  \n",
    "my_dict = {\n",
    "    \"name\": \"Alice\",\n",
    "    \"age\": 25,\n",
    "    \"city\": \"New York\",\n",
    "    \"profession\": \"Engineer\",\n",
    "    \"hobby\": \"Painting\"\n",
    "}\n",
    "print(\"\\nDictionary:\", my_dict)\n",
    "print(\"Accessing elements from the dictionary:\")\n",
    "print(\"Value of 'name':\", my_dict[\"name\"])\n",
    "print(\"Value of 'profession':\", my_dict[\"profession\"])\n",
    "print(\"Value of 'hobby':\", my_dict[\"hobby\"])\n"
   ]
  },
  {
   "cell_type": "code",
   "execution_count": null,
   "id": "0b028acc",
   "metadata": {},
   "outputs": [],
   "source": []
  }
 ],
 "metadata": {
  "kernelspec": {
   "display_name": "Python 3 (ipykernel)",
   "language": "python",
   "name": "python3"
  },
  "language_info": {
   "codemirror_mode": {
    "name": "ipython",
    "version": 3
   },
   "file_extension": ".py",
   "mimetype": "text/x-python",
   "name": "python",
   "nbconvert_exporter": "python",
   "pygments_lexer": "ipython3",
   "version": "3.11.5"
  }
 },
 "nbformat": 4,
 "nbformat_minor": 5
}
